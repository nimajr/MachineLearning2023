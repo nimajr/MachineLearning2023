{
  "nbformat": 4,
  "nbformat_minor": 0,
  "metadata": {
    "colab": {
      "provenance": [],
      "authorship_tag": "ABX9TyNU96eWAwPZgyKrpr088oDl",
      "include_colab_link": true
    },
    "kernelspec": {
      "name": "python3",
      "display_name": "Python 3"
    },
    "language_info": {
      "name": "python"
    }
  },
  "cells": [
    {
      "cell_type": "markdown",
      "metadata": {
        "id": "view-in-github",
        "colab_type": "text"
      },
      "source": [
        "<a href=\"https://colab.research.google.com/github/nimajr/MachineLearning2023/blob/main/hw2/q3/HW2Q3.ipynb\" target=\"_parent\"><img src=\"https://colab.research.google.com/assets/colab-badge.svg\" alt=\"Open In Colab\"/></a>"
      ]
    },
    {
      "cell_type": "markdown",
      "source": [
        "# Q3.1"
      ],
      "metadata": {
        "id": "GsXKA6r5SnDh"
      }
    },
    {
      "cell_type": "code",
      "execution_count": 5,
      "metadata": {
        "id": "SEToWSQfSiDC"
      },
      "outputs": [],
      "source": [
        "from PIL import Image\n",
        "\n",
        "def convertImageToBinary(path):\n",
        "    \"\"\"\n",
        "    Convert an image to a binary representation based on pixel intensity in grayscale.\n",
        "\n",
        "    Args:\n",
        "        path (str): The file path to the input image.\n",
        "\n",
        "    Returns:\n",
        "        list: A binary representation of the image where white is represented by -1 and black is represented by 1.\n",
        "    \"\"\"\n",
        "    # Open the image file.\n",
        "    image = Image.open(path)\n",
        "\n",
        "    # Convert the image to grayscale.\n",
        "    grayscale_image = image.convert(\"L\")  # \"L\" mode is for grayscale\n",
        "\n",
        "    # Determine the image's width and height in pixels.\n",
        "    width, height = grayscale_image.size\n",
        "\n",
        "    # Load pixel values for the grayscale image.\n",
        "    pix = grayscale_image.load()\n",
        "\n",
        "    # Define a threshold for binary conversion.\n",
        "    threshold = 128  # Middle of 0-255 grayscale range\n",
        "\n",
        "    # Initialize an empty list to store the binary representation.\n",
        "    binary_representation = []\n",
        "\n",
        "    # Loop through all pixels in the grayscale image.\n",
        "    for i in range(width):\n",
        "        for j in range(height):\n",
        "            # Get the grayscale intensity value of the pixel.\n",
        "            intensity = pix[i, j]\n",
        "\n",
        "            # Determine whether the pixel is above or below the threshold.\n",
        "            if intensity > threshold:\n",
        "                binary_representation.append(-1)  # White\n",
        "            else:\n",
        "                binary_representation.append(1)  # Black\n",
        "\n",
        "    # Return the binary representation of the image.\n",
        "    return binary_representation\n"
      ]
    },
    {
      "cell_type": "code",
      "source": [],
      "metadata": {
        "id": "OrnVD_foWahU"
      },
      "execution_count": null,
      "outputs": []
    },
    {
      "cell_type": "code",
      "source": [
        "from PIL import Image, ImageDraw\n",
        "import random\n",
        "\n",
        "def generateNoisyImages():\n",
        "    # List of image file paths\n",
        "    image_paths = [\n",
        "        \"/content/1.jpg\",\n",
        "        \"/content/2.jpg\",\n",
        "        \"/content/3.jpg\",\n",
        "        \"/content/4.jpg\",\n",
        "        \"/content/5.jpg\"\n",
        "    ]\n",
        "\n",
        "    for i, image_path in enumerate(image_paths, start=1):\n",
        "        noisy_image_path = f\"/content/noisy{i}.jpg\"\n",
        "        getNoisyBinaryImage(image_path, noisy_image_path)\n",
        "        print(f\"Noisy image for {image_path} generated and saved as {noisy_image_path}\")\n",
        "\n",
        "def getNoisyBinaryImage(input_path, output_path):\n",
        "    \"\"\"\n",
        "    Add noise to an image and save it as a new file.\n",
        "\n",
        "    Args:\n",
        "        input_path (str): The file path to the input image.\n",
        "        output_path (str): The file path to save the noisy image.\n",
        "    \"\"\"\n",
        "    # Open the input image.\n",
        "    image = Image.open(input_path)\n",
        "\n",
        "    # Create a drawing tool for manipulating the image.\n",
        "    draw = ImageDraw.Draw(image)\n",
        "\n",
        "    # Determine the image's width and height in pixels.\n",
        "    width = image.size[0]\n",
        "    height = image.size[1]\n",
        "\n",
        "    # Load pixel values for the image.\n",
        "    pix = image.load()\n",
        "\n",
        "    # Define a factor for introducing noise.\n",
        "    noise_factor = 500\n",
        "\n",
        "    # Loop through all pixels in the image.\n",
        "    for i in range(width):\n",
        "        for j in range(height):\n",
        "            # Generate a random noise value within the specified factor.\n",
        "            rand = random.randint(-noise_factor, noise_factor)\n",
        "\n",
        "            # Add the noise to the Red, Green, and Blue (RGB) values of the pixel.\n",
        "            red = pix[i, j][0] + rand\n",
        "            green = pix[i, j][1] + rand\n",
        "            blue = pix[i, j][2] + rand\n",
        "\n",
        "            # Ensure that RGB values stay within the valid range (0-255).\n",
        "            if red < 0:\n",
        "                red = 0\n",
        "            if green < 0:\n",
        "                green = 0\n",
        "            if blue < 0:\n",
        "                blue = 0\n",
        "            if red > 255:\n",
        "                red = 255\n",
        "            if green > 255:\n",
        "                green = 255\n",
        "            if blue > 255:\n",
        "                blue = 255\n",
        "\n",
        "            # Set the pixel color accordingly.\n",
        "            draw.point((i, j), (red, green, blue))\n",
        "\n",
        "    # Save the noisy image as a file.\n",
        "    image.save(output_path, \"JPEG\")\n",
        "\n",
        "    # Clean up the drawing tool.\n",
        "    del draw\n",
        "\n",
        "# Generate noisy images and save them\n",
        "generateNoisyImages()\n"
      ],
      "metadata": {
        "id": "uieJ8cLbEqB-",
        "colab": {
          "base_uri": "https://localhost:8080/"
        },
        "outputId": "8b109dda-a756-4112-d3e8-856614423c6b"
      },
      "execution_count": 12,
      "outputs": [
        {
          "output_type": "stream",
          "name": "stdout",
          "text": [
            "Noisy image for /content/1.jpg generated and saved as /content/noisy1.jpg\n",
            "Noisy image for /content/2.jpg generated and saved as /content/noisy2.jpg\n",
            "Noisy image for /content/3.jpg generated and saved as /content/noisy3.jpg\n",
            "Noisy image for /content/4.jpg generated and saved as /content/noisy4.jpg\n",
            "Noisy image for /content/5.jpg generated and saved as /content/noisy5.jpg\n"
          ]
        }
      ]
    }
  ]
}