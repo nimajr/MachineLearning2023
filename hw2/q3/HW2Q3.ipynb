{
  "nbformat": 4,
  "nbformat_minor": 0,
  "metadata": {
    "colab": {
      "provenance": [],
      "authorship_tag": "ABX9TyMxwlUq7p8hes6HbaK1np7Y",
      "include_colab_link": true
    },
    "kernelspec": {
      "name": "python3",
      "display_name": "Python 3"
    },
    "language_info": {
      "name": "python"
    }
  },
  "cells": [
    {
      "cell_type": "markdown",
      "metadata": {
        "id": "view-in-github",
        "colab_type": "text"
      },
      "source": [
        "<a href=\"https://colab.research.google.com/github/nimajr/MachineLearning2023/blob/main/hw2/q3/HW2Q3.ipynb\" target=\"_parent\"><img src=\"https://colab.research.google.com/assets/colab-badge.svg\" alt=\"Open In Colab\"/></a>"
      ]
    },
    {
      "cell_type": "markdown",
      "source": [
        "# Q3.1"
      ],
      "metadata": {
        "id": "GsXKA6r5SnDh"
      }
    },
    {
      "cell_type": "code",
      "execution_count": 5,
      "metadata": {
        "id": "SEToWSQfSiDC"
      },
      "outputs": [],
      "source": [
        "from PIL import Image\n",
        "\n",
        "def convertImageToBinary(path):\n",
        "    \"\"\"\n",
        "    Convert an image to a binary representation based on pixel intensity in grayscale.\n",
        "\n",
        "    Args:\n",
        "        path (str): The file path to the input image.\n",
        "\n",
        "    Returns:\n",
        "        list: A binary representation of the image where white is represented by -1 and black is represented by 1.\n",
        "    \"\"\"\n",
        "    # Open the image file.\n",
        "    image = Image.open(path)\n",
        "\n",
        "    # Convert the image to grayscale.\n",
        "    grayscale_image = image.convert(\"L\")  # \"L\" mode is for grayscale\n",
        "\n",
        "    # Determine the image's width and height in pixels.\n",
        "    width, height = grayscale_image.size\n",
        "\n",
        "    # Load pixel values for the grayscale image.\n",
        "    pix = grayscale_image.load()\n",
        "\n",
        "    # Define a threshold for binary conversion.\n",
        "    threshold = 128  # Middle of 0-255 grayscale range\n",
        "\n",
        "    # Initialize an empty list to store the binary representation.\n",
        "    binary_representation = []\n",
        "\n",
        "    # Loop through all pixels in the grayscale image.\n",
        "    for i in range(width):\n",
        "        for j in range(height):\n",
        "            # Get the grayscale intensity value of the pixel.\n",
        "            intensity = pix[i, j]\n",
        "\n",
        "            # Determine whether the pixel is above or below the threshold.\n",
        "            if intensity > threshold:\n",
        "                binary_representation.append(-1)  # White\n",
        "            else:\n",
        "                binary_representation.append(1)  # Black\n",
        "\n",
        "    # Return the binary representation of the image.\n",
        "    return binary_representation\n"
      ]
    },
    {
      "cell_type": "code",
      "source": [
        "import numpy as np\n",
        "from PIL import Image\n",
        "import random\n",
        "\n",
        "def add_noise(image, noise_range=(-50, 50)):\n",
        "    \"\"\"\n",
        "    Add random noise to the image using numpy for faster processing.\n",
        "\n",
        "    Args:\n",
        "        image (PIL.Image.Image): The input image.\n",
        "        noise_range (tuple): Range of noise values to be added (default: -50 to 50).\n",
        "\n",
        "    Returns:\n",
        "        PIL.Image.Image: The noisy image.\n",
        "    \"\"\"\n",
        "    # Convert the image to a numpy array\n",
        "    img_array = np.array(image, dtype=np.int16)  # Use int16 to prevent overflow\n",
        "    noise = np.random.randint(noise_range[0], noise_range[1] + 1, img_array.shape, dtype=np.int16)\n",
        "\n",
        "    # Add noise and clip to valid range (0-255)\n",
        "    noisy_array = np.clip(img_array + noise, 0, 255).astype(np.uint8)\n",
        "\n",
        "    # Convert back to PIL Image\n",
        "    noisy_image = Image.fromarray(noisy_array)\n",
        "    return noisy_image\n",
        "\n",
        "def get_noisy_binary_image(input_path, output_path, noise_range=(-50, 50)):\n",
        "    \"\"\"\n",
        "    Add noise to an image and save it as a new file.\n",
        "\n",
        "    Args:\n",
        "        input_path (str): The file path to the input image.\n",
        "        output_path (str): The file path to save the noisy image.\n",
        "        noise_range (tuple): Range of noise values to be added.\n",
        "    \"\"\"\n",
        "    image = Image.open(input_path)\n",
        "    noisy_image = add_noise(image, noise_range=noise_range)\n",
        "    noisy_image.save(output_path, \"JPEG\")\n",
        "\n",
        "def generate_noisy_images():\n",
        "    image_paths = [\n",
        "        \"/content/1.jpg\",\n",
        "        \"/content/2.jpg\",\n",
        "        \"/content/3.jpg\",\n",
        "        \"/content/4.jpg\",\n",
        "        \"/content/5.jpg\"\n",
        "    ]\n",
        "\n",
        "    for i, image_path in enumerate(image_paths, start=1):\n",
        "        noisy_image_path = f\"/content/noisy{i}.jpg\"\n",
        "        get_noisy_binary_image(image_path, noisy_image_path)\n",
        "        print(f\"Noisy image for {image_path} generated and saved as {noisy_image_path}\")\n",
        "\n",
        "# Generate noisy images\n",
        "generate_noisy_images()\n"
      ],
      "metadata": {
        "colab": {
          "base_uri": "https://localhost:8080/"
        },
        "id": "Uc2XGeEuVYiP",
        "outputId": "0bd9fd80-b782-484b-be0e-03c9cd787bfc"
      },
      "execution_count": 6,
      "outputs": [
        {
          "output_type": "stream",
          "name": "stdout",
          "text": [
            "Noisy image for /content/1.jpg generated and saved as /content/noisy1.jpg\n",
            "Noisy image for /content/2.jpg generated and saved as /content/noisy2.jpg\n",
            "Noisy image for /content/3.jpg generated and saved as /content/noisy3.jpg\n",
            "Noisy image for /content/4.jpg generated and saved as /content/noisy4.jpg\n",
            "Noisy image for /content/5.jpg generated and saved as /content/noisy5.jpg\n"
          ]
        }
      ]
    }
  ]
}