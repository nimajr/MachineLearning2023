{
  "nbformat": 4,
  "nbformat_minor": 0,
  "metadata": {
    "colab": {
      "provenance": [],
      "toc_visible": true,
      "authorship_tag": "ABX9TyPVYlINdI+sLb1kqaJ/hLN8",
      "include_colab_link": true
    },
    "kernelspec": {
      "name": "python3",
      "display_name": "Python 3"
    },
    "language_info": {
      "name": "python"
    }
  },
  "cells": [
    {
      "cell_type": "markdown",
      "metadata": {
        "id": "view-in-github",
        "colab_type": "text"
      },
      "source": [
        "<a href=\"https://colab.research.google.com/github/nimajr/MachineLearning2023/blob/main/hw2/q2/hw2q2_1.ipynb\" target=\"_parent\"><img src=\"https://colab.research.google.com/assets/colab-badge.svg\" alt=\"Open In Colab\"/></a>"
      ]
    },
    {
      "cell_type": "code",
      "execution_count": 1,
      "metadata": {
        "id": "w2iQ_XvBZlak"
      },
      "outputs": [],
      "source": [
        "import pandas as pd\n"
      ]
    },
    {
      "cell_type": "code",
      "source": [
        "  df = pd.read_csv('/content/teleCust1000t.csv')\n",
        "  print(df.head())"
      ],
      "metadata": {
        "colab": {
          "base_uri": "https://localhost:8080/"
        },
        "id": "DsM1bcrZaUlj",
        "outputId": "9ed02e4f-efaa-48d2-b48b-5afa72148b98"
      },
      "execution_count": 3,
      "outputs": [
        {
          "output_type": "stream",
          "name": "stdout",
          "text": [
            "   region  tenure  age  marital  address  income  ed  employ  retire  gender  \\\n",
            "0       2      13   44        1        9    64.0   4       5     0.0       0   \n",
            "1       3      11   33        1        7   136.0   5       5     0.0       0   \n",
            "2       3      68   52        1       24   116.0   1      29     0.0       1   \n",
            "3       2      33   33        0       12    33.0   2       0     0.0       1   \n",
            "4       2      23   30        1        9    30.0   1       2     0.0       0   \n",
            "\n",
            "   reside  custcat  \n",
            "0       2        1  \n",
            "1       6        4  \n",
            "2       2        3  \n",
            "3       1        1  \n",
            "4       4        3  \n"
          ]
        }
      ]
    }
  ]
}