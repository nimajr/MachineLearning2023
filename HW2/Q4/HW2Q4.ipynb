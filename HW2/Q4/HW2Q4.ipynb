{
  "nbformat": 4,
  "nbformat_minor": 0,
  "metadata": {
    "colab": {
      "provenance": [],
      "authorship_tag": "ABX9TyNlhonm/DDucUVVaXEIeU2v",
      "include_colab_link": true
    },
    "kernelspec": {
      "name": "python3",
      "display_name": "Python 3"
    },
    "language_info": {
      "name": "python"
    }
  },
  "cells": [
    {
      "cell_type": "markdown",
      "metadata": {
        "id": "view-in-github",
        "colab_type": "text"
      },
      "source": [
        "<a href=\"https://colab.research.google.com/github/nimajr/MachineLearning2023/blob/main/HW2/Q4/HW2Q4.ipynb\" target=\"_parent\"><img src=\"https://colab.research.google.com/assets/colab-badge.svg\" alt=\"Open In Colab\"/></a>"
      ]
    },
    {
      "cell_type": "markdown",
      "source": [
        "# **Q4-1&2**\n"
      ],
      "metadata": {
        "id": "HlqiloOr5ZIq"
      }
    },
    {
      "cell_type": "code",
      "execution_count": 1,
      "metadata": {
        "colab": {
          "base_uri": "https://localhost:8080/"
        },
        "id": "imY1e9fb4gij",
        "outputId": "bbed9193-e862-4552-bd85-6cbcbe8a9bfa"
      },
      "outputs": [
        {
          "output_type": "stream",
          "name": "stdout",
          "text": [
            "Epoch [10/100], Loss: 1.0106\n",
            "Epoch [20/100], Loss: 0.9975\n",
            "Epoch [30/100], Loss: 0.9841\n",
            "Epoch [40/100], Loss: 0.9420\n",
            "Epoch [50/100], Loss: 0.8490\n",
            "Epoch [60/100], Loss: 0.7198\n",
            "Epoch [70/100], Loss: 0.5758\n",
            "Epoch [80/100], Loss: 0.5162\n",
            "Epoch [90/100], Loss: 0.4785\n",
            "Epoch [100/100], Loss: 0.4503\n",
            "Test Loss: 0.4528\n"
          ]
        }
      ],
      "source": [
        "import torch\n",
        "import torch.nn as nn\n",
        "import torch.optim as optim\n",
        "from sklearn.model_selection import train_test_split\n",
        "from sklearn.preprocessing import StandardScaler\n",
        "from sklearn.datasets import fetch_california_housing\n",
        "\n",
        "# بارگذاری دیتاست\n",
        "data = fetch_california_housing()\n",
        "X, y = data.data, data.target\n",
        "y = y.reshape(-1, 1)  # تغییر شکل برای سازگاری با مدل\n",
        "\n",
        "# نرمال‌سازی داده‌ها\n",
        "scaler_X = StandardScaler()\n",
        "scaler_y = StandardScaler()\n",
        "X = scaler_X.fit_transform(X)\n",
        "y = scaler_y.fit_transform(y)\n",
        "\n",
        "# تقسیم داده‌ها به آموزش و آزمون\n",
        "X_train, X_test, y_train, y_test = train_test_split(X, y, test_size=0.2, random_state=42)\n",
        "\n",
        "# تبدیل به تنسور\n",
        "X_train = torch.FloatTensor(X_train)\n",
        "X_test = torch.FloatTensor(X_test)\n",
        "y_train = torch.FloatTensor(y_train)\n",
        "y_test = torch.FloatTensor(y_test)\n",
        "\n",
        "# تعریف لایه RBF\n",
        "class RBF_Layer(nn.Module):\n",
        "    def __init__(self, input_dim, num_centers):\n",
        "        super(RBF_Layer, self).__init__()\n",
        "        self.centers = nn.Parameter(torch.randn(num_centers, input_dim))  # مراکز\n",
        "        self.beta = nn.Parameter(torch.ones(1))  # پارامتر بتا\n",
        "\n",
        "    def forward(self, x):\n",
        "        # محاسبه فاصله اقلیدسی و تبدیل آن به تابع گاوسی\n",
        "        diff = x.unsqueeze(1) - self.centers.unsqueeze(0)\n",
        "        dist_sq = torch.sum(diff ** 2, dim=-1)\n",
        "        return torch.exp(-self.beta * dist_sq)\n",
        "\n",
        "# تعریف مدل کلی\n",
        "class RBF_Network(nn.Module):\n",
        "    def __init__(self, input_dim, num_centers, output_dim):\n",
        "        super(RBF_Network, self).__init__()\n",
        "        self.rbf_layer = RBF_Layer(input_dim, num_centers)\n",
        "        self.linear_layer = nn.Linear(num_centers, output_dim)\n",
        "\n",
        "    def forward(self, x):\n",
        "        rbf_out = self.rbf_layer(x)\n",
        "        output = self.linear_layer(rbf_out)\n",
        "        return output\n",
        "\n",
        "# تعریف مدل\n",
        "input_dim = X_train.shape[1]\n",
        "num_centers = 10  # تعداد نودهای لایه RBF\n",
        "output_dim = 1\n",
        "model = RBF_Network(input_dim, num_centers, output_dim)\n",
        "\n",
        "# تنظیمات آموزش\n",
        "criterion = nn.MSELoss()\n",
        "optimizer = optim.Adam(model.parameters(), lr=0.01)\n",
        "\n",
        "# آموزش مدل\n",
        "num_epochs = 100\n",
        "for epoch in range(num_epochs):\n",
        "    model.train()\n",
        "    optimizer.zero_grad()\n",
        "    outputs = model(X_train)\n",
        "    loss = criterion(outputs, y_train)\n",
        "    loss.backward()\n",
        "    optimizer.step()\n",
        "\n",
        "    if (epoch + 1) % 10 == 0:\n",
        "        print(f\"Epoch [{epoch+1}/{num_epochs}], Loss: {loss.item():.4f}\")\n",
        "\n",
        "# ارزیابی مدل\n",
        "model.eval()\n",
        "with torch.no_grad():\n",
        "    predictions = model(X_test)\n",
        "    test_loss = criterion(predictions, y_test)\n",
        "    print(f\"Test Loss: {test_loss.item():.4f}\")\n"
      ]
    },
    {
      "cell_type": "markdown",
      "source": [
        "# **Q4-2.4**"
      ],
      "metadata": {
        "id": "GbYfXCVT7HSl"
      }
    },
    {
      "cell_type": "code",
      "source": [
        "import torch\n",
        "import torch.nn as nn\n",
        "import torch.optim as optim\n",
        "from sklearn.model_selection import train_test_split\n",
        "from sklearn.preprocessing import StandardScaler\n",
        "from sklearn.datasets import fetch_california_housing\n",
        "\n",
        "data = fetch_california_housing()\n",
        "X, y = data.data, data.target\n",
        "y = y.reshape(-1, 1)  # تغییر شکل برای سازگاری با مدل\n",
        "\n",
        "scaler_X = StandardScaler()\n",
        "scaler_y = StandardScaler()\n",
        "X = scaler_X.fit_transform(X)\n",
        "y = scaler_y.fit_transform(y)\n",
        "\n",
        "X_train, X_test, y_train, y_test = train_test_split(X, y, test_size=0.2, random_state=42)\n",
        "\n",
        "X_train = torch.FloatTensor(X_train)\n",
        "X_test = torch.FloatTensor(X_test)\n",
        "y_train = torch.FloatTensor(y_train)\n",
        "y_test = torch.FloatTensor(y_test)\n",
        "\n",
        "class Dense_Network(nn.Module):\n",
        "    def __init__(self, input_dim, hidden_dim, output_dim):\n",
        "        super(Dense_Network, self).__init__()\n",
        "        self.hidden_layer = nn.Linear(input_dim, hidden_dim)\n",
        "        self.output_layer = nn.Linear(hidden_dim, output_dim)\n",
        "        self.activation = nn.ReLU()\n",
        "\n",
        "    def forward(self, x):\n",
        "        hidden_output = self.activation(self.hidden_layer(x))\n",
        "        output = self.output_layer(hidden_output)\n",
        "        return output\n",
        "\n",
        "# تنظیمات مدل\n",
        "input_dim = X_train.shape[1]  # تعداد ویژگی‌ها\n",
        "hidden_dim = 64  # تعداد نودهای لایه مخفی\n",
        "output_dim = 1   # خروجی (قیمت خانه‌ها)\n",
        "\n",
        "model = Dense_Network(input_dim, hidden_dim, output_dim)\n",
        "\n",
        "# تنظیمات آموزش\n",
        "criterion = nn.MSELoss()\n",
        "optimizer = optim.Adam(model.parameters(), lr=0.01)\n",
        "\n",
        "# آموزش مدل\n",
        "num_epochs = 100\n",
        "for epoch in range(num_epochs):\n",
        "    model.train()\n",
        "    optimizer.zero_grad()\n",
        "    outputs = model(X_train)\n",
        "    loss = criterion(outputs, y_train)\n",
        "    loss.backward()\n",
        "    optimizer.step()\n",
        "\n",
        "    if (epoch + 1) % 10 == 0:\n",
        "        print(f\"Epoch [{epoch+1}/{num_epochs}], Loss: {loss.item():.4f}\")\n",
        "\n",
        "# ارزیابی مدل\n",
        "model.eval()\n",
        "with torch.no_grad():\n",
        "    predictions = model(X_test)\n",
        "    test_loss = criterion(predictions, y_test)\n",
        "    print(f\"Test Loss: {test_loss.item():.4f}\")\n"
      ],
      "metadata": {
        "colab": {
          "base_uri": "https://localhost:8080/"
        },
        "id": "C0W4wg0y7PyW",
        "outputId": "ba613efd-ad69-400b-90ec-3e75fd4d5630"
      },
      "execution_count": 2,
      "outputs": [
        {
          "output_type": "stream",
          "name": "stdout",
          "text": [
            "Epoch [10/100], Loss: 0.4769\n",
            "Epoch [20/100], Loss: 0.3833\n",
            "Epoch [30/100], Loss: 0.3452\n",
            "Epoch [40/100], Loss: 0.3259\n",
            "Epoch [50/100], Loss: 0.3094\n",
            "Epoch [60/100], Loss: 0.2969\n",
            "Epoch [70/100], Loss: 0.2859\n",
            "Epoch [80/100], Loss: 0.2767\n",
            "Epoch [90/100], Loss: 0.2692\n",
            "Epoch [100/100], Loss: 0.2629\n",
            "Test Loss: 0.2707\n"
          ]
        }
      ]
    }
  ]
}